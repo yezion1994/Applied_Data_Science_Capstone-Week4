{
 "cells": [
  {
   "cell_type": "markdown",
   "metadata": {},
   "source": [
    "# Introduction\n",
    "The City of New York, is the most popular city in the United States, which is also the financial capital of USA with a level of diversity multicultural atmosphere. NYC is famous for its business friendly environment and provides lots of business oppourtunities. Therefore, many players from different places are welcome to join the market. It is a global hub of business and commerce. The city is a major center for banking and finance, retailing, world trade, transportation, tourism, real estate, new media, traditional media, advertising, legal services, accountancy, insurance, theater, fashion, and the arts in the United States, which means the market could be highly competitive in any field, including restaurants. As one of the highly developed city, the cost of doing business could be one of the highest. Thus, any new business venture or expansion needs to be analysed carefully. The insights derived from analysis will give good understanding of the business environment, which help in strategically targeting the market. This will help in reduction of risk. And the Return on Investment will be reasonable."
   ]
  },
  {
   "cell_type": "markdown",
   "metadata": {},
   "source": [
    "# Business problem\n",
    "The City of New York is famous for its excelllent food. cantonese food is attractive to people from different background, and has been part of the city's immigrant history for more than a century. Cantonese restaurants have become so popular in the United States not just in China town but also elsewhere in the major and small cities, and even could be found on every corner. Therefore, Starting a cantonese restaurant can be a great business opportunity, but you need to make a plans with details in order to distinguish yourself from others for a long-term success."
   ]
  },
  {
   "cell_type": "markdown",
   "metadata": {},
   "source": [
    "# Find a suitable location \n",
    "Various factors need to be studied inorder to decide on the Location including daily delivery fee for raw materials, population, pricing, rents and so on. In cantonese food, fresh materials is pretty important, especially to people from south of China, thus the delivery fee and cost could be high. However, if we target a more diverge range of clients, meats stewed with Soy sauce and spices could be an replacement which can lower the cost and surprise people from different culture. So it is evident that to survive in such competitive market it is very important to startegically plan. "
   ]
  },
  {
   "cell_type": "markdown",
   "metadata": {},
   "source": [
    "# Target Audience\n",
    "Let's assue my Client wants to open his business in New York, so I only focus on that borough during my analysis. The objective is to locate and recommend to the management which neighborhood of Newyork city will be best choice to start a restaurant. The Management also expects to understand the rationale of the recommendations made.\n",
    "This would interest anyone who wants to start a new restaurant in Newyork city."
   ]
  }
 ],
 "metadata": {
  "kernelspec": {
   "display_name": "Python 3",
   "language": "python",
   "name": "python3"
  },
  "language_info": {
   "codemirror_mode": {
    "name": "ipython",
    "version": 3
   },
   "file_extension": ".py",
   "mimetype": "text/x-python",
   "name": "python",
   "nbconvert_exporter": "python",
   "pygments_lexer": "ipython3",
   "version": "3.6.12"
  }
 },
 "nbformat": 4,
 "nbformat_minor": 4
}
